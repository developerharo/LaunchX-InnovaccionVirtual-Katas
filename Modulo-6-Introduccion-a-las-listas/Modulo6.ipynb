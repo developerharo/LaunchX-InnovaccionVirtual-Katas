{
 "cells": [
  {
   "cell_type": "markdown",
   "metadata": {},
   "source": [
    "## Ejercicio1: Crear y usar listas de Python\n",
    "\n",
    "### Ejercicio: Usar listas para almacenar nombres de planetas"
   ]
  },
  {
   "cell_type": "code",
   "execution_count": 3,
   "metadata": {},
   "outputs": [
    {
     "name": "stdout",
     "output_type": "stream",
     "text": [
      "Hay 8 planets\n",
      "Plutón es el último planeta\n"
     ]
    }
   ],
   "source": [
    "# Creando la lista de planetas\n",
    "planets = ['Mercurio', 'Venus', 'Tierra', 'Marte', 'Jupiter', 'Saturn', 'Urano', 'Neptuno', ]\n",
    "\n",
    "print('Hay', len(planets), 'planets')\n",
    "\n",
    "# Se agrega a plutón y se muestra el final de la lista\n",
    "planets.append('Plutón')\n",
    "\n",
    "print(planets[-1], 'es el último planeta')"
   ]
  },
  {
   "cell_type": "markdown",
   "metadata": {},
   "source": [
    "## Ejercicio 2: Trabajando con datos de una lista\n",
    "\n",
    "### Usar slices para recuperar partes de una lista\n",
    "Es posible que debas trabajar con diferentes secciones de una lista. En nuestro ejemplo, queremos mostrar planetas más cerca y más lejos del sol de un planeta que el usuario ingresa por teclado.\n",
    "\n",
    "Comienza agregando el código para crear una lista con los planetas.\n",
    "\n",
    "### Solicita al usuario el nombre de un planeta\n",
    "A continuación, agrega el código para solicitar al usuario un nombre. Debido a que las cadenas distinguen entre mayúsculas y minúsculas en Python, pídale al usuario que use una letra mayúscula para comenzar el nombre del planeta.\n",
    "\n",
    "### Encuentra el planeta en la lista\n",
    "Para determinar qué planetas están más cerca que el que ingresó el usuario, debes encontrar dónde está el planeta en la lista. Puedes utilizar index para realizar esta operación. Agrega el código para encontrar el índice del planeta.\n",
    "\n",
    "### Mostrar planetas más cercanos al sol que el que el usuario ingresó\n",
    "Con el índice determinado, ahora puedes agregar el código para mostrar los planetas más cercanos al sol.\n",
    "\n",
    "### Mostrar planetas más alejados del sol que el que el usuario ingresó\n",
    "Puedes usar el mismo índice para mostrar planetas más alejados del sol. Sin embargo, recuerda que el índice inicial se incluye cuando usas un slice. Como resultado, tendrás que agregar 1 al valor. Agrega el código para mostrar los planetas más alejados del sol."
   ]
  },
  {
   "cell_type": "code",
   "execution_count": 11,
   "metadata": {},
   "outputs": [
    {
     "name": "stdout",
     "output_type": "stream",
     "text": [
      "Planetas más cercanos al sol Jupiter\n",
      "['Mercurio', 'Venus', 'Tierra', 'Marte']\n",
      "Planetas más alejados del sol Jupiter\n",
      "['Saturn', 'Urano', 'Neptuno']\n"
     ]
    }
   ],
   "source": [
    "# Creando la lista de planetas\n",
    "planets = ['Mercurio', 'Venus', 'Tierra', 'Marte', 'Jupiter', 'Saturn', 'Urano', 'Neptuno', ]\n",
    "\n",
    "# Se pide ingresar el nombre de un planeta *Pista: input()\n",
    "input_planet = input('Ingresa el nombre de un planeta (Usa mayúscula al inicio)')\n",
    "\n",
    "# Buscar el planeta en el arreglo\n",
    "index_planets = planets.index(input_planet)\n",
    "\n",
    "# Mostrar los planetas más cercanos al sol\n",
    "print('Planetas más cercanos al sol ' + input_planet)\n",
    "print(planets[0:index_planets])\n",
    "\n",
    "# Mostrar los planetas más alejados del sol\n",
    "print('Planetas más alejados del sol ' + input_planet)\n",
    "print(planets[index_planets + 1:])"
   ]
  }
 ],
 "metadata": {
  "interpreter": {
   "hash": "6c0313a2386dc58a7a5c9d65a41d768d4b05c75ba91eb3d93640562b2e2254ac"
  },
  "kernelspec": {
   "display_name": "Python 3.10.2 64-bit",
   "language": "python",
   "name": "python3"
  },
  "language_info": {
   "name": "python",
   "version": "3.10.2"
  },
  "orig_nbformat": 4
 },
 "nbformat": 4,
 "nbformat_minor": 2
}
