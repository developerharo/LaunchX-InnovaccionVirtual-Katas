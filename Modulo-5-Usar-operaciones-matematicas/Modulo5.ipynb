{
 "cells": [
  {
   "cell_type": "markdown",
   "metadata": {},
   "source": [
    "## Ejercicio1 - Utilizar operadores aritméticos\n",
    "Operadores aritméticos en Python\n",
    "Python proporciona operadores aritméticos comunes para que puedas realizar operaciones matemáticas en tu código. Estos incluyen las cuatro operaciones principales de suma, resta, multiplicación y división.\n",
    "\n",
    "Exploremos cómo podemos crear un programa que pueda calcular la distancia entre dos planetas. Comenzaremos usando dos distancias de planetas: Tierra (149.597.870 km) y Júpiter (778.547.200 km).\n",
    "\n",
    "### Realizar la operación\n",
    "Con los valores obtenidos, es el momento de añadir el código para realizar la operación. Restarás el primer planeta del segundo para determinar la distancia en kilómetros. A continuación, puedes convertir la distancia del kilómetro en millas multiplicándola por 0.621.\n",
    "\n",
    "### Prueba tu proyecto\n",
    "Con el código creado, ejecuta el notebook para obtener el resultado. Deberías recibir lo siguiente:\n",
    "\n",
    "628949330\n",
    "390577534"
   ]
  },
  {
   "cell_type": "code",
   "execution_count": null,
   "metadata": {},
   "outputs": [],
   "source": [
    "primer_planeta = 149597870\n",
    "segundo_planeta = 778547200\n",
    "\n",
    "distancia_en_km = segundo_planeta - primer_planeta\n",
    "distancia_en_mi = distancia_en_km * 0.621\n",
    "\n",
    "print(distancia_en_km)\n",
    "print(distancia_en_mi)"
   ]
  },
  {
   "cell_type": "markdown",
   "metadata": {},
   "source": [
    "## Ejercicio 2: convierte cadenas en números y usa valores absolutos\n",
    "Crear una aplicación para trabajar con números y entrada de usuario\n",
    "Con frecuencia, deberás convertir los valores de cadena en números para realizar correctamente diferentes operaciones o determinar el valor absoluto de un número.\n",
    "\n",
    "Para crear nuestra aplicación, queremos leer la distancia del sol para dos planetas, y luego mostrar la distancia entre los planetas. Haremos esto usando input para leer los valores, int para convertir a entero y luego abs para convertir el resultado en su valor absoluto."
   ]
  },
  {
   "cell_type": "code",
   "execution_count": 3,
   "metadata": {},
   "outputs": [
    {
     "name": "stdout",
     "output_type": "stream",
     "text": [
      "629000000\n",
      "390609000.0\n"
     ]
    }
   ],
   "source": [
    "# Almacenar las entradas del usuario\n",
    "primer_planeta = input('Ingresa la distancia del sol para el primer planeta')\n",
    "segundo_planeta = input('Ingresa la distancia desde el sol para el segundo planeta')\n",
    "\n",
    "# Convertir las cadenas de entrada a entero\n",
    "primer_planeta = int(primer_planeta)\n",
    "segundo_planeta = int(segundo_planeta)\n",
    "\n",
    "# Calcular el valor absoluto\n",
    "distancia_en_km = segundo_planeta - primer_planeta\n",
    "print(distancia_en_km)\n",
    "\n",
    "# Convertir de km a millas\n",
    "distancia_en_mi = distancia_en_km * 0.621\n",
    "print(abs(distancia_en_mi))"
   ]
  }
 ],
 "metadata": {
  "interpreter": {
   "hash": "6c0313a2386dc58a7a5c9d65a41d768d4b05c75ba91eb3d93640562b2e2254ac"
  },
  "kernelspec": {
   "display_name": "Python 3.10.2 64-bit",
   "language": "python",
   "name": "python3"
  },
  "language_info": {
   "codemirror_mode": {
    "name": "ipython",
    "version": 3
   },
   "file_extension": ".py",
   "mimetype": "text/x-python",
   "name": "python",
   "nbconvert_exporter": "python",
   "pygments_lexer": "ipython3",
   "version": "3.10.2"
  },
  "orig_nbformat": 4
 },
 "nbformat": 4,
 "nbformat_minor": 2
}
