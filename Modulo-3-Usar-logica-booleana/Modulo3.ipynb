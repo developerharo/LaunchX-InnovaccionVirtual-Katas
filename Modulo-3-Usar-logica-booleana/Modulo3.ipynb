{
 "cells": [
  {
   "cell_type": "markdown",
   "metadata": {},
   "source": [
    "# Problema 1\n",
    "Este ejercicio describe una lógica condicional que imprime una advertencia si un asteroide se acerca a la Tierra demasiado rápido. La velocidad del asteroide varía dependiendo de lo cerca que esté del sol, y cualquier velocidad superior a 25 kilómetros por segundo (km/s) merece una advertencia.\n",
    "\n",
    "Un asteroide se acerca, y viaja a una velocidad de 49 km/s."
   ]
  },
  {
   "cell_type": "code",
   "execution_count": 4,
   "metadata": {},
   "outputs": [
    {
     "name": "stdout",
     "output_type": "stream",
     "text": [
      "Peligro! Un asteroide se aproxima a velocidades peligrosas\n"
     ]
    }
   ],
   "source": [
    "velocidad = 49\n",
    "if velocidad > 25:\n",
    "    print(\"Peligro! Un asteroide se aproxima a velocidades peligrosas\")\n",
    "else:\n",
    "    print('Todo Ok!')"
   ]
  },
  {
   "cell_type": "markdown",
   "metadata": {},
   "source": [
    "# Problema 2\n",
    "Si un asteroide entra en la atmósfera de la Tierra a una velocidad mayor o igual a 20 km/s, a veces produce un rayo de luz que se puede ver desde la Tierra. Escribe la lógica condicional que usa declaraciones if, else, y elif para alertar a las personas de todo el mundo que deben buscar un asteroide en el cielo. ¡Hay uno que se dirige a la tierra ahora a una velocidad de 19 km/s!"
   ]
  },
  {
   "cell_type": "code",
   "execution_count": 5,
   "metadata": {},
   "outputs": [
    {
     "name": "stdout",
     "output_type": "stream",
     "text": [
      "Sin novedad mi Capitán!\n"
     ]
    }
   ],
   "source": [
    "velocidad = 19\n",
    "if velocidad > 20:\n",
    "    print('Se puede una luz en el cielo')\n",
    "elif velocidad == 20:\n",
    "    print('Se puede ver una luz en el cielo')\n",
    "else:\n",
    "    print('Sin novedad mi Capitán!')"
   ]
  },
  {
   "cell_type": "markdown",
   "metadata": {},
   "source": [
    "# Problema 3\n",
    "Los asteroides de menos de 25 metros en su dimensión más grande probablemente se quemarán a medida que entren en la atmósfera de la Tierra.\n",
    "\n",
    "Si una pieza de un asteroide que es más grande que 25 metros pero más pequeña que 1000 metros golpeara la Tierra, causaría mucho daño.\n",
    "También discutimos en el ejercicio anterior que:\n",
    "\n",
    "La velocidad del asteroide varía en función de lo cerca que esté del sol, y cualquier velocidad superior a 25 kilómetros por segundo (km/s) merece una advertencia.\n",
    "Si un asteroide entra en la atmósfera de la Tierra a una velocidad mayor o igual a 20 km/s, a veces produce un rayo de luz que se puede ver desde la Tierra."
   ]
  },
  {
   "cell_type": "code",
   "execution_count": 8,
   "metadata": {},
   "outputs": [
    {
     "name": "stdout",
     "output_type": "stream",
     "text": [
      "Luz brillando en el cielo!\n"
     ]
    }
   ],
   "source": [
    "velocidad = 20\n",
    "dimension_asteroide = 40\n",
    "if velocidad > 25 and dimension_asteroide > 25:\n",
    "    print('Peligro por asteroide con dirección a la tierra!')\n",
    "elif velocidad >= 20:\n",
    "    print('Luz brillando en el cielo!')\n",
    "elif dimension_asteroide < 25:\n",
    "    print('Sin novedades Terrícolas!')\n",
    "else:\n",
    "    print('Sin novedades Terrícolas!')"
   ]
  }
 ],
 "metadata": {
  "interpreter": {
   "hash": "6c0313a2386dc58a7a5c9d65a41d768d4b05c75ba91eb3d93640562b2e2254ac"
  },
  "kernelspec": {
   "display_name": "Python 3.10.2 64-bit",
   "language": "python",
   "name": "python3"
  },
  "language_info": {
   "codemirror_mode": {
    "name": "ipython",
    "version": 3
   },
   "file_extension": ".py",
   "mimetype": "text/x-python",
   "name": "python",
   "nbconvert_exporter": "python",
   "pygments_lexer": "ipython3",
   "version": "3.10.2"
  },
  "orig_nbformat": 4
 },
 "nbformat": 4,
 "nbformat_minor": 2
}
